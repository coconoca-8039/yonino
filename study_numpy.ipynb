{
 "cells": [
  {
   "cell_type": "code",
   "execution_count": 1,
   "id": "ccc6b8ed-e116-4408-aada-ec0baaa0a8fb",
   "metadata": {},
   "outputs": [],
   "source": [
    "import pandas as pd\n",
    "import numpy as np\n",
    "import time\n",
    "import matplotlib.pyplot as plt"
   ]
  },
  {
   "cell_type": "code",
   "execution_count": 2,
   "id": "7626b296-e9e6-4daf-ab83-35f6bfa86b03",
   "metadata": {},
   "outputs": [
    {
     "name": "stdout",
     "output_type": "stream",
     "text": [
      "red\n",
      "blue\n",
      "green\n",
      "yellow\n",
      "white\n"
     ]
    }
   ],
   "source": [
    "colors = ['red', 'blue', 'green', 'yellow', 'white']\n",
    "for color in colors:\n",
    "    print(color)"
   ]
  },
  {
   "cell_type": "code",
   "execution_count": 3,
   "id": "4d081325-707a-43fd-8210-49d6b7efa544",
   "metadata": {},
   "outputs": [
    {
     "name": "stdout",
     "output_type": "stream",
     "text": [
      "name: ゆい\n",
      "age: 26\n",
      "name: たけし\n",
      "age: 30\n",
      "name: あかり\n",
      "age: 22\n"
     ]
    }
   ],
   "source": [
    "dict_list = [\n",
    "    {\"name\": \"ゆい\", \"age\": 26},\n",
    "    {\"name\": \"たけし\", \"age\": 30},\n",
    "    {\"name\": \"あかり\", \"age\": 22}\n",
    "]\n",
    "\n",
    "for d in dict_list:\n",
    "    for k, v in d.items():\n",
    "        print(f\"{k}: {v}\")"
   ]
  },
  {
   "cell_type": "markdown",
   "id": "9e5a7e95-5efd-4156-a81a-5a5ac297f4ad",
   "metadata": {},
   "source": [
    "['filename1', 'filenam2', 'filename3']\n",
    "　→　\n",
    "['filename1_0.png', 'filenam2_1.png', 'filename3_2.pmnmg']"
   ]
  },
  {
   "cell_type": "code",
   "execution_count": 4,
   "id": "bb6f74ed-7b80-4b8e-9485-84a81666c0b9",
   "metadata": {},
   "outputs": [],
   "source": [
    "#これは最低限の例\n",
    "def add_png(filename_list):\n",
    "\n",
    "    result_list = []\n",
    "    \n",
    "    for idx, filename in enumerate(filename_list):\n",
    "        result_list.append(filename + '_' + str(idx) + '.png')\n",
    "\n",
    "    return result_list"
   ]
  },
  {
   "cell_type": "code",
   "execution_count": 5,
   "id": "d78aa77a-34e0-4a04-9c84-22bac9951571",
   "metadata": {},
   "outputs": [
    {
     "data": {
      "text/plain": [
       "['filename1_0.png', 'filenam2_1.png', 'filename3_2.png']"
      ]
     },
     "execution_count": 5,
     "metadata": {},
     "output_type": "execute_result"
    }
   ],
   "source": [
    "file_list = ['filename1', 'filenam2', 'filename3'] \n",
    "add_png(file_list)"
   ]
  },
  {
   "cell_type": "code",
   "execution_count": 6,
   "id": "4e284291-1b2a-4eea-9d78-0ecc7e30e41c",
   "metadata": {},
   "outputs": [],
   "source": [
    "#模範解答\n",
    "def add_png(filename_list):\n",
    "    '''\n",
    "    各ファイル名にインデックス番号と拡張子 .png を付けた新しいリストを作成する。\n",
    "\n",
    "    Args:\n",
    "        filename_list (list of str): ファイル名のリスト（拡張子なし）\n",
    "\n",
    "    Returns:\n",
    "        list of str: 元のファイル名に \"_番号.png\" を付けたリスト\n",
    "                     例: ['file1', 'file2'] -> ['file1_0.png', 'file2_1.png']\n",
    "    '''\n",
    "\n",
    "    result_list = []\n",
    "    \n",
    "    for idx, filename in enumerate(filename_list):\n",
    "        result_list.append(f\"{filename}_{idx}.png\")\n",
    "\n",
    "    return result_list"
   ]
  },
  {
   "cell_type": "code",
   "execution_count": 7,
   "id": "5d84efdd-d19d-47eb-9933-e5979a0a57f5",
   "metadata": {},
   "outputs": [
    {
     "data": {
      "text/plain": [
       "['filename1_0.png', 'filenam2_1.png', 'filename3_2.png']"
      ]
     },
     "execution_count": 7,
     "metadata": {},
     "output_type": "execute_result"
    }
   ],
   "source": [
    "file_list = ['filename1', 'filenam2', 'filename3'] \n",
    "add_png(file_list)"
   ]
  },
  {
   "cell_type": "code",
   "execution_count": 8,
   "id": "2537ac86-fcfe-4272-b7e1-fbfe5eff1a48",
   "metadata": {},
   "outputs": [
    {
     "data": {
      "text/plain": [
       "['filename1_0.png', 'filenam2_1.png', 'filename3_2.png']"
      ]
     },
     "execution_count": 8,
     "metadata": {},
     "output_type": "execute_result"
    }
   ],
   "source": [
    "#リスト内包表記\n",
    "def add_png(filename_list):\n",
    "    return [f\"{name}_{i}.png\" for i, name in enumerate(filename_list)]\n",
    "\n",
    "file_list = ['filename1', 'filenam2', 'filename3'] \n",
    "add_png(file_list)"
   ]
  },
  {
   "cell_type": "markdown",
   "id": "91f054f8-a727-457b-9ac9-47cdafc73cec",
   "metadata": {},
   "source": [
    "# Numpy"
   ]
  },
  {
   "cell_type": "code",
   "execution_count": 9,
   "id": "b5fa2d2d-b827-40f3-9ce0-990e935be661",
   "metadata": {},
   "outputs": [
    {
     "data": {
      "text/plain": [
       "array([1, 2, 3])"
      ]
     },
     "execution_count": 9,
     "metadata": {},
     "output_type": "execute_result"
    }
   ],
   "source": [
    "np.array([1, 2, 3])"
   ]
  },
  {
   "cell_type": "code",
   "execution_count": 10,
   "id": "88bf4849-9c89-4f29-960b-3dc79d95dbad",
   "metadata": {},
   "outputs": [],
   "source": [
    "matrix = np.array([[1, 2, 3], [4, 5, 6], [7, 8, 9]])"
   ]
  },
  {
   "cell_type": "code",
   "execution_count": 11,
   "id": "d02467b3-feb2-4e72-b6d3-025e04e20873",
   "metadata": {},
   "outputs": [
    {
     "data": {
      "text/plain": [
       "array([1, 2, 3])"
      ]
     },
     "execution_count": 11,
     "metadata": {},
     "output_type": "execute_result"
    }
   ],
   "source": [
    "matrix[0]"
   ]
  },
  {
   "cell_type": "code",
   "execution_count": 12,
   "id": "fa5858b4-9141-473f-92fd-2c9e63675358",
   "metadata": {},
   "outputs": [
    {
     "data": {
      "text/plain": [
       "np.int64(3)"
      ]
     },
     "execution_count": 12,
     "metadata": {},
     "output_type": "execute_result"
    }
   ],
   "source": [
    "matrix[0][2]"
   ]
  },
  {
   "cell_type": "code",
   "execution_count": 13,
   "id": "52f54920-b4a7-4a3f-82b0-0ebda0043dd3",
   "metadata": {},
   "outputs": [
    {
     "data": {
      "text/plain": [
       "array([[1, 2, 3],\n",
       "       [4, 5, 6],\n",
       "       [7, 8, 9]])"
      ]
     },
     "execution_count": 13,
     "metadata": {},
     "output_type": "execute_result"
    }
   ],
   "source": [
    "matrix"
   ]
  },
  {
   "cell_type": "code",
   "execution_count": 14,
   "id": "cce767ca-6f7d-4fcf-8343-8c8c750510ef",
   "metadata": {},
   "outputs": [
    {
     "data": {
      "text/plain": [
       "numpy.float64"
      ]
     },
     "execution_count": 14,
     "metadata": {},
     "output_type": "execute_result"
    }
   ],
   "source": [
    "ndarray = np.array([[1, 2, 3], [4, 5, 6], [7, 8, 9]], dtype=float)\n",
    "type(ndarray[0][0])"
   ]
  },
  {
   "cell_type": "code",
   "execution_count": 15,
   "id": "4f78b2cc-2351-49e9-920a-72e44a5c5f21",
   "metadata": {},
   "outputs": [
    {
     "data": {
      "text/plain": [
       "array([[1, 2, 3],\n",
       "       [4, 5, 6],\n",
       "       [7, 8, 9]], dtype=uint8)"
      ]
     },
     "execution_count": 15,
     "metadata": {},
     "output_type": "execute_result"
    }
   ],
   "source": [
    "ndarray.astype(np.uint8)"
   ]
  },
  {
   "cell_type": "code",
   "execution_count": 16,
   "id": "2b33bef3-030f-4155-9cd2-cded99b892e0",
   "metadata": {},
   "outputs": [],
   "source": [
    "array1 = np.array([[1, 2, 3], [4, 5, 6], [7, 8, 9]])\n",
    "array2 = np.array([[1, 2, 3], [4, 5, 6], [7, 8, 9]])"
   ]
  },
  {
   "cell_type": "code",
   "execution_count": 17,
   "id": "000a6eff-1b1e-44f2-a343-ed106ae04069",
   "metadata": {},
   "outputs": [
    {
     "data": {
      "text/plain": [
       "array([[1, 2, 3],\n",
       "       [4, 5, 6],\n",
       "       [7, 8, 9]])"
      ]
     },
     "execution_count": 17,
     "metadata": {},
     "output_type": "execute_result"
    }
   ],
   "source": [
    "array1"
   ]
  },
  {
   "cell_type": "code",
   "execution_count": 18,
   "id": "c7eb3105-bedb-4701-a051-ca82e01c2e3a",
   "metadata": {},
   "outputs": [
    {
     "data": {
      "text/plain": [
       "array([[1., 1., 1.],\n",
       "       [1., 1., 1.],\n",
       "       [1., 1., 1.]])"
      ]
     },
     "execution_count": 18,
     "metadata": {},
     "output_type": "execute_result"
    }
   ],
   "source": [
    "#numpyならこのような計算が可能\n",
    "array1 / array2"
   ]
  },
  {
   "cell_type": "code",
   "execution_count": 19,
   "id": "9a144aa3-2adb-4cdb-94b0-ef61848982e0",
   "metadata": {},
   "outputs": [
    {
     "data": {
      "text/plain": [
       "array([[ 2,  4,  6],\n",
       "       [ 8, 10, 12],\n",
       "       [14, 16, 18]])"
      ]
     },
     "execution_count": 19,
     "metadata": {},
     "output_type": "execute_result"
    }
   ],
   "source": [
    "array1 + array2"
   ]
  },
  {
   "cell_type": "code",
   "execution_count": 20,
   "id": "5f704a43-b3c7-4129-ab27-5868cb089195",
   "metadata": {},
   "outputs": [
    {
     "data": {
      "text/plain": [
       "array([[1, 2],\n",
       "       [3, 4],\n",
       "       [5, 6]])"
      ]
     },
     "execution_count": 20,
     "metadata": {},
     "output_type": "execute_result"
    }
   ],
   "source": [
    "ndarray = np.array([[1, 2], [3, 4], [5, 6]])\n",
    "ndarray"
   ]
  },
  {
   "cell_type": "code",
   "execution_count": 21,
   "id": "7b6edc86-8ace-4615-89d8-7a603eb9d1ce",
   "metadata": {},
   "outputs": [
    {
     "data": {
      "text/plain": [
       "(3, 2)"
      ]
     },
     "execution_count": 21,
     "metadata": {},
     "output_type": "execute_result"
    }
   ],
   "source": [
    "ndarray.shape"
   ]
  },
  {
   "cell_type": "code",
   "execution_count": 22,
   "id": "a2786409-4fb2-4625-a0f6-af8af46421c4",
   "metadata": {},
   "outputs": [
    {
     "data": {
      "text/plain": [
       "array([[1, 2, 3],\n",
       "       [4, 5, 6]])"
      ]
     },
     "execution_count": 22,
     "metadata": {},
     "output_type": "execute_result"
    }
   ],
   "source": [
    "ndarray = ndarray.reshape(2,3)\n",
    "ndarray"
   ]
  },
  {
   "cell_type": "code",
   "execution_count": 23,
   "id": "31161997-ef77-4e27-99da-4d0b5f4befd0",
   "metadata": {},
   "outputs": [
    {
     "data": {
      "text/plain": [
       "(2, 3)"
      ]
     },
     "execution_count": 23,
     "metadata": {},
     "output_type": "execute_result"
    }
   ],
   "source": [
    "ndarray.shape"
   ]
  },
  {
   "cell_type": "code",
   "execution_count": 24,
   "id": "1671080b-1a1b-4a6c-81fd-65ebc2f847f2",
   "metadata": {},
   "outputs": [
    {
     "data": {
      "text/plain": [
       "array([[[1, 2],\n",
       "        [3, 4],\n",
       "        [5, 6]]])"
      ]
     },
     "execution_count": 24,
     "metadata": {},
     "output_type": "execute_result"
    }
   ],
   "source": [
    "ndarray = ndarray.reshape(3,2)\n",
    "np.expand_dims(ndarray, axis=0)"
   ]
  },
  {
   "cell_type": "code",
   "execution_count": 25,
   "id": "4b045ff6-5882-48a4-9fea-4bb529777194",
   "metadata": {},
   "outputs": [
    {
     "data": {
      "text/plain": [
       "array([[1, 2],\n",
       "       [3, 4],\n",
       "       [5, 6]])"
      ]
     },
     "execution_count": 25,
     "metadata": {},
     "output_type": "execute_result"
    }
   ],
   "source": [
    "expand_ndarry = np.expand_dims(ndarray, axis=0)\n",
    "np.squeeze(expand_ndarry)"
   ]
  },
  {
   "cell_type": "code",
   "execution_count": 26,
   "id": "d27347fd-aea3-4686-a2c6-27688b3ffdf2",
   "metadata": {},
   "outputs": [
    {
     "data": {
      "text/plain": [
       "array([1, 2, 3, 4, 5, 6])"
      ]
     },
     "execution_count": 26,
     "metadata": {},
     "output_type": "execute_result"
    }
   ],
   "source": [
    "flat_ndarray = np.expand_dims(ndarray, axis=0)\n",
    "flat_ndarray.flatten()"
   ]
  },
  {
   "cell_type": "code",
   "execution_count": 27,
   "id": "e31180f2-e013-423e-8ab7-49a99fd724a4",
   "metadata": {},
   "outputs": [
    {
     "data": {
      "text/plain": [
       "array([1, 2, 3, 4])"
      ]
     },
     "execution_count": 27,
     "metadata": {},
     "output_type": "execute_result"
    }
   ],
   "source": [
    "ndarray = np.array([1, 2, 3, 4])\n",
    "ndarray"
   ]
  },
  {
   "cell_type": "code",
   "execution_count": 28,
   "id": "31fefe2e-9172-483a-8d87-296420d0f333",
   "metadata": {},
   "outputs": [
    {
     "data": {
      "text/plain": [
       "np.int64(4)"
      ]
     },
     "execution_count": 28,
     "metadata": {},
     "output_type": "execute_result"
    }
   ],
   "source": [
    "ndarray[-1]"
   ]
  },
  {
   "cell_type": "code",
   "execution_count": 29,
   "id": "396c5825-ccd8-4974-809e-e67928bfae6e",
   "metadata": {},
   "outputs": [
    {
     "data": {
      "text/plain": [
       "array([[1, 2],\n",
       "       [3, 4],\n",
       "       [5, 6]])"
      ]
     },
     "execution_count": 29,
     "metadata": {},
     "output_type": "execute_result"
    }
   ],
   "source": [
    "ndarray = np.array([[1, 2], [3, 4], [5, 6]])\n",
    "ndarray"
   ]
  },
  {
   "cell_type": "code",
   "execution_count": 30,
   "id": "19305985-a990-4103-b9af-183cfd7d066f",
   "metadata": {},
   "outputs": [
    {
     "data": {
      "text/plain": [
       "np.int64(2)"
      ]
     },
     "execution_count": 30,
     "metadata": {},
     "output_type": "execute_result"
    }
   ],
   "source": [
    "ndarray[0][1]"
   ]
  },
  {
   "cell_type": "code",
   "execution_count": 31,
   "id": "75560bf6-1db2-4508-babb-14d653215fc5",
   "metadata": {},
   "outputs": [
    {
     "data": {
      "text/plain": [
       "np.int64(2)"
      ]
     },
     "execution_count": 31,
     "metadata": {},
     "output_type": "execute_result"
    }
   ],
   "source": [
    "ndarray[0, 1]  # 0行目の1列目"
   ]
  },
  {
   "cell_type": "code",
   "execution_count": 32,
   "id": "a5f156d8-ef6a-45b5-8953-6c9b77a1ddac",
   "metadata": {},
   "outputs": [],
   "source": [
    "ndarray = np.array([1, 2, 3, 4])"
   ]
  },
  {
   "cell_type": "code",
   "execution_count": 33,
   "id": "2ce4f683-7ee7-459d-b24b-897f69b52abc",
   "metadata": {},
   "outputs": [
    {
     "data": {
      "text/plain": [
       "array([2, 3])"
      ]
     },
     "execution_count": 33,
     "metadata": {},
     "output_type": "execute_result"
    }
   ],
   "source": [
    "ndarray[1:3]  # 1以上3未満"
   ]
  },
  {
   "cell_type": "code",
   "execution_count": 34,
   "id": "a06132f5-3f7d-4fd8-9ae9-cb31ad3de78f",
   "metadata": {},
   "outputs": [
    {
     "data": {
      "text/plain": [
       "array([1, 2, 3])"
      ]
     },
     "execution_count": 34,
     "metadata": {},
     "output_type": "execute_result"
    }
   ],
   "source": [
    "ndarray[:3]  #0から3未満"
   ]
  },
  {
   "cell_type": "code",
   "execution_count": 35,
   "id": "06c8c8a5-8a7e-4536-8598-e12d8aa8a195",
   "metadata": {},
   "outputs": [
    {
     "data": {
      "text/plain": [
       "array([2, 3, 4])"
      ]
     },
     "execution_count": 35,
     "metadata": {},
     "output_type": "execute_result"
    }
   ],
   "source": [
    "ndarray[1:]  # 1番目から最後まで"
   ]
  },
  {
   "cell_type": "code",
   "execution_count": 36,
   "id": "d50bcab5-9efb-4b3a-928b-e79b5d53cd01",
   "metadata": {},
   "outputs": [
    {
     "data": {
      "text/plain": [
       "np.int64(3)"
      ]
     },
     "execution_count": 36,
     "metadata": {},
     "output_type": "execute_result"
    }
   ],
   "source": [
    "ndarray[-2]  # 最後から2番目"
   ]
  },
  {
   "cell_type": "code",
   "execution_count": 37,
   "id": "ea62472c-e69e-4ee9-acc9-bbb7e3e226d2",
   "metadata": {},
   "outputs": [
    {
     "data": {
      "text/plain": [
       "array([1, 2])"
      ]
     },
     "execution_count": 37,
     "metadata": {},
     "output_type": "execute_result"
    }
   ],
   "source": [
    "ndarray[:-2]"
   ]
  },
  {
   "cell_type": "code",
   "execution_count": 38,
   "id": "ef7f15e3-67c4-4b6e-aa01-c0226f469509",
   "metadata": {},
   "outputs": [
    {
     "data": {
      "text/plain": [
       "array([3, 4])"
      ]
     },
     "execution_count": 38,
     "metadata": {},
     "output_type": "execute_result"
    }
   ],
   "source": [
    "ndarray[-2:]"
   ]
  },
  {
   "cell_type": "code",
   "execution_count": 39,
   "id": "7fa17976-ee81-4c85-a529-3649167235d5",
   "metadata": {},
   "outputs": [
    {
     "data": {
      "text/plain": [
       "array([1, 2, 3, 4])"
      ]
     },
     "execution_count": 39,
     "metadata": {},
     "output_type": "execute_result"
    }
   ],
   "source": [
    "ndarray[:]"
   ]
  },
  {
   "cell_type": "code",
   "execution_count": 40,
   "id": "7bfb2266-c083-48dc-a6af-d371d0939515",
   "metadata": {},
   "outputs": [],
   "source": [
    "ndarray = np.array([[1, 2, 3, 4], [5, 6, 7, 8], [9, 10, 11, 12],[13, 14, 15, 16]])"
   ]
  },
  {
   "cell_type": "code",
   "execution_count": 41,
   "id": "09db22cf-7863-42e8-a609-9c3cbc1112c7",
   "metadata": {},
   "outputs": [
    {
     "data": {
      "text/plain": [
       "array([[ 1,  2,  3,  4],\n",
       "       [ 5,  6,  7,  8],\n",
       "       [ 9, 10, 11, 12],\n",
       "       [13, 14, 15, 16]])"
      ]
     },
     "execution_count": 41,
     "metadata": {},
     "output_type": "execute_result"
    }
   ],
   "source": [
    "ndarray"
   ]
  },
  {
   "cell_type": "code",
   "execution_count": 42,
   "id": "c1651c97-727b-46b4-83d3-4ef6ff34485d",
   "metadata": {},
   "outputs": [
    {
     "data": {
      "text/plain": [
       "array([[ 1,  2,  3,  4],\n",
       "       [ 5,  6,  7,  8],\n",
       "       [ 9, 10, 11, 12]])"
      ]
     },
     "execution_count": 42,
     "metadata": {},
     "output_type": "execute_result"
    }
   ],
   "source": [
    "ndarray[:3]  # 0~2行目まで"
   ]
  },
  {
   "cell_type": "code",
   "execution_count": 43,
   "id": "f8563683-f5cf-421e-9119-463ee0a5fee4",
   "metadata": {},
   "outputs": [
    {
     "data": {
      "text/plain": [
       "array([[13, 14, 15, 16]])"
      ]
     },
     "execution_count": 43,
     "metadata": {},
     "output_type": "execute_result"
    }
   ],
   "source": [
    "ndarray[3:]  # 3行目以降だけ"
   ]
  },
  {
   "cell_type": "code",
   "execution_count": 44,
   "id": "34d017a0-645c-4c9d-b0ff-38621cfad37b",
   "metadata": {},
   "outputs": [
    {
     "data": {
      "text/plain": [
       "array([[ 3,  4],\n",
       "       [ 7,  8],\n",
       "       [11, 12]])"
      ]
     },
     "execution_count": 44,
     "metadata": {},
     "output_type": "execute_result"
    }
   ],
   "source": [
    "ndarray[:3, 2:]  # 3行目未満かつ、2列目以上"
   ]
  },
  {
   "cell_type": "code",
   "execution_count": 45,
   "id": "5f0f18ce-6460-4ede-923d-1977f75a465d",
   "metadata": {},
   "outputs": [
    {
     "data": {
      "text/plain": [
       "array([[ 9, 10, 11, 12]])"
      ]
     },
     "execution_count": 45,
     "metadata": {},
     "output_type": "execute_result"
    }
   ],
   "source": [
    "ndarray[:3][2:]  # [:3:]が実行されたあとに[2:]が実行されるため上の行と結果が変わる"
   ]
  },
  {
   "cell_type": "markdown",
   "id": "58cce72d-fefc-4535-91d5-31477ef949e5",
   "metadata": {},
   "source": [
    "# np.arange(), np.linspace(), np.logspace()"
   ]
  },
  {
   "cell_type": "code",
   "execution_count": 46,
   "id": "94e2a702-59a0-489b-980b-6f9bdb0460f7",
   "metadata": {},
   "outputs": [
    {
     "data": {
      "text/plain": [
       "array([10,  9,  8,  7,  6,  5,  4,  3,  2])"
      ]
     },
     "execution_count": 46,
     "metadata": {},
     "output_type": "execute_result"
    }
   ],
   "source": [
    "np.arange(10, 1, -1)"
   ]
  },
  {
   "cell_type": "code",
   "execution_count": 47,
   "id": "6987ce77-14c6-43b0-a7d9-4e7bbed614de",
   "metadata": {},
   "outputs": [
    {
     "data": {
      "text/plain": [
       "[2, 6, 10, 14]"
      ]
     },
     "execution_count": 47,
     "metadata": {},
     "output_type": "execute_result"
    }
   ],
   "source": [
    "list(range(2, 15, 4))"
   ]
  },
  {
   "cell_type": "code",
   "execution_count": 48,
   "id": "9305c5f4-7663-4b2e-a7fc-f86091d07b5f",
   "metadata": {},
   "outputs": [
    {
     "data": {
      "text/plain": [
       "array([ 0.,  1.,  2.,  3.,  4.,  5.,  6.,  7.,  8.,  9., 10.])"
      ]
     },
     "execution_count": 48,
     "metadata": {},
     "output_type": "execute_result"
    }
   ],
   "source": [
    "np.linspace(0, 10, 11)  # 0から10まで間を11個の数字で埋める"
   ]
  },
  {
   "cell_type": "code",
   "execution_count": 49,
   "id": "19ecc84a-59c8-4663-94ce-fb0ea267a3e3",
   "metadata": {},
   "outputs": [
    {
     "data": {
      "text/plain": [
       "array([ 0. ,  2.5,  5. ,  7.5, 10. ])"
      ]
     },
     "execution_count": 49,
     "metadata": {},
     "output_type": "execute_result"
    }
   ],
   "source": [
    "np.linspace(0, 10, 5)  # 0から10まで間を5個の数字で埋める"
   ]
  },
  {
   "cell_type": "code",
   "execution_count": 50,
   "id": "a41077c1-7c68-4049-a06e-6de272b1e4ae",
   "metadata": {},
   "outputs": [
    {
     "data": {
      "text/plain": [
       "array([   1.        ,    2.15443469,    4.64158883,   10.        ,\n",
       "         21.5443469 ,   46.41588834,  100.        ,  215.443469  ,\n",
       "        464.15888336, 1000.        ])"
      ]
     },
     "execution_count": 50,
     "metadata": {},
     "output_type": "execute_result"
    }
   ],
   "source": [
    "np.logspace(0, 3, 10)  # 累乗をリニアにしている"
   ]
  },
  {
   "cell_type": "code",
   "execution_count": 51,
   "id": "b772b238-d709-458b-a58e-0bbbcf633d02",
   "metadata": {},
   "outputs": [
    {
     "data": {
      "text/plain": [
       "array([0.        , 0.33333333, 0.66666667, 1.        , 1.33333333,\n",
       "       1.66666667, 2.        , 2.33333333, 2.66666667, 3.        ])"
      ]
     },
     "execution_count": 51,
     "metadata": {},
     "output_type": "execute_result"
    }
   ],
   "source": [
    "np.linspace(0, 3, 10)"
   ]
  },
  {
   "cell_type": "code",
   "execution_count": 52,
   "id": "d41c6349-d0a8-49d0-98f5-bd2c26202b49",
   "metadata": {},
   "outputs": [
    {
     "data": {
      "text/plain": [
       "array([0. , 0.3, 0.6, 0.9, 1.2, 1.5, 1.8, 2.1, 2.4, 2.7])"
      ]
     },
     "execution_count": 52,
     "metadata": {},
     "output_type": "execute_result"
    }
   ],
   "source": [
    "np.linspace(0, 3, 10, endpoint=False)  # 最後の値が含まれない"
   ]
  },
  {
   "cell_type": "markdown",
   "id": "cc7bfe29-6f79-4ce5-8d97-5b4952793fd4",
   "metadata": {},
   "source": [
    "# zeros(), ones(), eye()"
   ]
  },
  {
   "cell_type": "code",
   "execution_count": 53,
   "id": "6fcfef18-d139-4408-b19f-97adb1d5857a",
   "metadata": {},
   "outputs": [
    {
     "data": {
      "text/plain": [
       "array([[0., 0., 0., 0.],\n",
       "       [0., 0., 0., 0.],\n",
       "       [0., 0., 0., 0.]])"
      ]
     },
     "execution_count": 53,
     "metadata": {},
     "output_type": "execute_result"
    }
   ],
   "source": [
    "shape = (3, 4)\n",
    "np.zeros(shape)"
   ]
  },
  {
   "cell_type": "code",
   "execution_count": 54,
   "id": "e6e0a137-8f9c-417a-b6ea-2e01b5aad5be",
   "metadata": {},
   "outputs": [
    {
     "data": {
      "text/plain": [
       "array([0., 0., 0.])"
      ]
     },
     "execution_count": 54,
     "metadata": {},
     "output_type": "execute_result"
    }
   ],
   "source": [
    "np.zeros(3)"
   ]
  },
  {
   "cell_type": "code",
   "execution_count": 55,
   "id": "a219a9a0-5ec4-4775-aed2-fa47d2026f9a",
   "metadata": {},
   "outputs": [
    {
     "data": {
      "text/plain": [
       "array([[1., 1., 1., 1.],\n",
       "       [1., 1., 1., 1.],\n",
       "       [1., 1., 1., 1.]])"
      ]
     },
     "execution_count": 55,
     "metadata": {},
     "output_type": "execute_result"
    }
   ],
   "source": [
    "np.ones(shape)"
   ]
  },
  {
   "cell_type": "code",
   "execution_count": 56,
   "id": "42a0dd7c-1cfa-4363-b542-c5bc5cb6dd95",
   "metadata": {},
   "outputs": [
    {
     "data": {
      "text/plain": [
       "array([1., 1., 1.])"
      ]
     },
     "execution_count": 56,
     "metadata": {},
     "output_type": "execute_result"
    }
   ],
   "source": [
    "np.ones(3)"
   ]
  },
  {
   "cell_type": "code",
   "execution_count": 57,
   "id": "314b40be-c799-4eb5-9e56-f45a89a5367b",
   "metadata": {},
   "outputs": [
    {
     "data": {
      "text/plain": [
       "array([[5., 5., 5., 5.],\n",
       "       [5., 5., 5., 5.],\n",
       "       [5., 5., 5., 5.],\n",
       "       [5., 5., 5., 5.],\n",
       "       [5., 5., 5., 5.]])"
      ]
     },
     "execution_count": 57,
     "metadata": {},
     "output_type": "execute_result"
    }
   ],
   "source": [
    "np.ones((5, 4)) * 5"
   ]
  },
  {
   "cell_type": "code",
   "execution_count": 58,
   "id": "c7925cd2-86d9-4441-a0ab-b77bac327a12",
   "metadata": {},
   "outputs": [
    {
     "data": {
      "text/plain": [
       "array([[1., 0., 0.],\n",
       "       [0., 1., 0.],\n",
       "       [0., 0., 1.]])"
      ]
     },
     "execution_count": 58,
     "metadata": {},
     "output_type": "execute_result"
    }
   ],
   "source": [
    "np.eye(3)"
   ]
  },
  {
   "cell_type": "code",
   "execution_count": 59,
   "id": "08e349c7-3d91-4a9f-86fe-c2c134f2ee91",
   "metadata": {},
   "outputs": [
    {
     "data": {
      "text/plain": [
       "array([[1., 0., 0., 0.],\n",
       "       [0., 1., 0., 0.],\n",
       "       [0., 0., 1., 0.]])"
      ]
     },
     "execution_count": 59,
     "metadata": {},
     "output_type": "execute_result"
    }
   ],
   "source": [
    "np.eye(3, 4)"
   ]
  },
  {
   "cell_type": "markdown",
   "id": "f902e94c-09ed-498b-8855-7c3c5cfe5fe1",
   "metadata": {},
   "source": [
    "# np.random"
   ]
  },
  {
   "cell_type": "code",
   "execution_count": 60,
   "id": "04d09a0a-6178-400a-8ba2-68687253af19",
   "metadata": {},
   "outputs": [
    {
     "data": {
      "text/plain": [
       "0.2483694295555623"
      ]
     },
     "execution_count": 60,
     "metadata": {},
     "output_type": "execute_result"
    }
   ],
   "source": [
    "np.random.rand()"
   ]
  },
  {
   "cell_type": "code",
   "execution_count": 61,
   "id": "105be375-a66b-44d4-9478-0e6c1aca41fa",
   "metadata": {},
   "outputs": [
    {
     "data": {
      "text/plain": [
       "array([[0.69041234, 0.74063616, 0.52694653, 0.6277646 ],\n",
       "       [0.23669331, 0.83136502, 0.06968526, 0.06448482],\n",
       "       [0.91723123, 0.39837813, 0.07670843, 0.55271247]])"
      ]
     },
     "execution_count": 61,
     "metadata": {},
     "output_type": "execute_result"
    }
   ],
   "source": [
    "np.random.rand(3, 4)"
   ]
  },
  {
   "cell_type": "code",
   "execution_count": 62,
   "id": "c677cc6e-a9a4-42d5-b5d4-39d2d1c72e00",
   "metadata": {},
   "outputs": [
    {
     "data": {
      "text/plain": [
       "0.417022004702574"
      ]
     },
     "execution_count": 62,
     "metadata": {},
     "output_type": "execute_result"
    }
   ],
   "source": [
    "np.random.seed(1)\n",
    "np.random.rand()"
   ]
  },
  {
   "cell_type": "code",
   "execution_count": 63,
   "id": "82a51c24-e5af-4ac8-b023-beba758cc0d5",
   "metadata": {},
   "outputs": [
    {
     "data": {
      "text/plain": [
       "0.7203244934421581"
      ]
     },
     "execution_count": 63,
     "metadata": {},
     "output_type": "execute_result"
    }
   ],
   "source": [
    "np.random.rand()"
   ]
  },
  {
   "cell_type": "code",
   "execution_count": 64,
   "id": "36d80b28-3f1e-435c-8e73-62ed988cc669",
   "metadata": {},
   "outputs": [
    {
     "data": {
      "text/plain": [
       "-0.5281717522634557"
      ]
     },
     "execution_count": 64,
     "metadata": {},
     "output_type": "execute_result"
    }
   ],
   "source": [
    "# 正規分布からランダム\n",
    "np.random.randn()"
   ]
  },
  {
   "cell_type": "code",
   "execution_count": 65,
   "id": "44ad31bb-7cfb-4839-94ec-1cf2ede35c1f",
   "metadata": {},
   "outputs": [
    {
     "data": {
      "text/plain": [
       "[np.float64(-1.0729686221561705),\n",
       " np.float64(0.8654076293246785),\n",
       " np.float64(-2.3015386968802827),\n",
       " np.float64(1.74481176421648),\n",
       " np.float64(-0.7612069008951028),\n",
       " np.float64(0.31903909605709857),\n",
       " np.float64(-0.2493703754774101),\n",
       " np.float64(1.462107937044974),\n",
       " np.float64(-2.060140709497654),\n",
       " np.float64(-0.3224172040135075)]"
      ]
     },
     "execution_count": 65,
     "metadata": {},
     "output_type": "execute_result"
    }
   ],
   "source": [
    "abcde = list(np.random.randn(10))\n",
    "abcde"
   ]
  },
  {
   "cell_type": "code",
   "execution_count": 66,
   "id": "311fbd2f-5595-4c88-90f9-58bd69d99b2e",
   "metadata": {},
   "outputs": [
    {
     "data": {
      "text/plain": [
       "99.61594564533158"
      ]
     },
     "execution_count": 66,
     "metadata": {},
     "output_type": "execute_result"
    }
   ],
   "source": [
    "np.random.normal(100,1)"
   ]
  },
  {
   "cell_type": "code",
   "execution_count": 67,
   "id": "c22786d2-8460-4c32-823e-383abcf95ea4",
   "metadata": {},
   "outputs": [
    {
     "data": {
      "text/plain": [
       "101.13376944233543"
      ]
     },
     "execution_count": 67,
     "metadata": {},
     "output_type": "execute_result"
    }
   ],
   "source": [
    "np.random.normal(100,1)"
   ]
  },
  {
   "cell_type": "code",
   "execution_count": 68,
   "id": "736f0eb6-aa63-4533-b1d6-ab56b2cb281f",
   "metadata": {},
   "outputs": [
    {
     "data": {
      "text/plain": [
       "98.90010873268596"
      ]
     },
     "execution_count": 68,
     "metadata": {},
     "output_type": "execute_result"
    }
   ],
   "source": [
    "np.random.normal(100,1)"
   ]
  },
  {
   "cell_type": "code",
   "execution_count": 69,
   "id": "f133dfae-58b7-4a1c-afc4-caee3397d44e",
   "metadata": {},
   "outputs": [
    {
     "data": {
      "text/plain": [
       "array([[11, 10, 70],\n",
       "       [91, 18, 98]], dtype=int32)"
      ]
     },
     "execution_count": 69,
     "metadata": {},
     "output_type": "execute_result"
    }
   ],
   "source": [
    "np.random.randint(10, 100, (2, 3))  # 10以上~100未満"
   ]
  },
  {
   "cell_type": "code",
   "execution_count": 70,
   "id": "35d5d4d2-3254-425d-8e00-cedc8b8dcf91",
   "metadata": {},
   "outputs": [],
   "source": [
    "a = np.arange(0, 100, 1)"
   ]
  },
  {
   "cell_type": "code",
   "execution_count": 71,
   "id": "fc5d4d38-7d0e-4770-99bd-931cb74c6613",
   "metadata": {},
   "outputs": [
    {
     "data": {
      "text/plain": [
       "np.int64(13)"
      ]
     },
     "execution_count": 71,
     "metadata": {},
     "output_type": "execute_result"
    }
   ],
   "source": [
    "np.random.choice(a)"
   ]
  },
  {
   "cell_type": "code",
   "execution_count": 72,
   "id": "c3634ca2-1e79-48c5-a785-4193110b7633",
   "metadata": {},
   "outputs": [
    {
     "data": {
      "text/plain": [
       "np.int64(47)"
      ]
     },
     "execution_count": 72,
     "metadata": {},
     "output_type": "execute_result"
    }
   ],
   "source": [
    "np.random.choice(a)"
   ]
  },
  {
   "cell_type": "markdown",
   "id": "0c273529-9360-4ce5-9411-ee3a75954250",
   "metadata": {},
   "source": [
    "# 統計量"
   ]
  },
  {
   "cell_type": "code",
   "execution_count": 73,
   "id": "89949b58-87f5-43ab-a4a9-4a1fb366adf7",
   "metadata": {},
   "outputs": [
    {
     "data": {
      "text/plain": [
       "array([[ 0.17133845, -0.44285144,  1.70490377],\n",
       "       [ 0.92434585, -1.30486124, -0.38057504],\n",
       "       [-0.74362701, -0.43712177, -0.42645009]])"
      ]
     },
     "execution_count": 73,
     "metadata": {},
     "output_type": "execute_result"
    }
   ],
   "source": [
    "std_norm = np.random.randn(3,3)\n",
    "std_norm"
   ]
  },
  {
   "cell_type": "code",
   "execution_count": 74,
   "id": "0d89da32-36e1-4426-9f71-d4388c8e0e80",
   "metadata": {},
   "outputs": [
    {
     "data": {
      "text/plain": [
       "np.float64(1.704903771988004)"
      ]
     },
     "execution_count": 74,
     "metadata": {},
     "output_type": "execute_result"
    }
   ],
   "source": [
    "std_norm.max()"
   ]
  },
  {
   "cell_type": "code",
   "execution_count": 75,
   "id": "ecdfcd9e-521c-487d-bebc-27517ee13a68",
   "metadata": {},
   "outputs": [
    {
     "data": {
      "text/plain": [
       "np.float64(1.704903771988004)"
      ]
     },
     "execution_count": 75,
     "metadata": {},
     "output_type": "execute_result"
    }
   ],
   "source": [
    "np.max(std_norm)"
   ]
  },
  {
   "cell_type": "code",
   "execution_count": 76,
   "id": "a417d070-0a7b-4d15-80d3-9ac1e1a3eacc",
   "metadata": {},
   "outputs": [
    {
     "data": {
      "text/plain": [
       "array([ 0.92434585, -0.43712177,  1.70490377])"
      ]
     },
     "execution_count": 76,
     "metadata": {},
     "output_type": "execute_result"
    }
   ],
   "source": [
    "std_norm.max(axis=0)"
   ]
  },
  {
   "cell_type": "code",
   "execution_count": 77,
   "id": "620c0907-d8f3-45d6-841b-ecaefc161403",
   "metadata": {},
   "outputs": [
    {
     "data": {
      "text/plain": [
       "array([[False, False,  True],\n",
       "       [ True, False, False],\n",
       "       [False,  True, False]])"
      ]
     },
     "execution_count": 77,
     "metadata": {},
     "output_type": "execute_result"
    }
   ],
   "source": [
    "col_max = std_norm.max(axis=0)\n",
    "mask = (std_norm == col_max)  # ブロードキャストされるから比較演算をすることができる\n",
    "mask"
   ]
  },
  {
   "cell_type": "code",
   "execution_count": 78,
   "id": "313e04bd-d996-4101-9e11-6110ddf39248",
   "metadata": {},
   "outputs": [
    {
     "data": {
      "text/plain": [
       "array([[0, 0, 1],\n",
       "       [1, 0, 0],\n",
       "       [0, 1, 0]])"
      ]
     },
     "execution_count": 78,
     "metadata": {},
     "output_type": "execute_result"
    }
   ],
   "source": [
    "mask.astype(int)"
   ]
  },
  {
   "cell_type": "code",
   "execution_count": 79,
   "id": "ce5736d5-0ef3-4afc-96fa-ee7c435a0581",
   "metadata": {},
   "outputs": [
    {
     "data": {
      "text/plain": [
       "np.float64(-1.3048612409805047)"
      ]
     },
     "execution_count": 79,
     "metadata": {},
     "output_type": "execute_result"
    }
   ],
   "source": [
    "std_norm.min()"
   ]
  },
  {
   "cell_type": "code",
   "execution_count": 80,
   "id": "80720127-056e-4415-96cb-a71276dc3ee7",
   "metadata": {},
   "outputs": [
    {
     "data": {
      "text/plain": [
       "np.int64(2)"
      ]
     },
     "execution_count": 80,
     "metadata": {},
     "output_type": "execute_result"
    }
   ],
   "source": [
    "std_norm.argmax()"
   ]
  },
  {
   "cell_type": "code",
   "execution_count": 81,
   "id": "be53a4b1-276b-4091-a609-a60d8336c8a9",
   "metadata": {},
   "outputs": [
    {
     "data": {
      "text/plain": [
       "np.float64(-0.4264500924926471)"
      ]
     },
     "execution_count": 81,
     "metadata": {},
     "output_type": "execute_result"
    }
   ],
   "source": [
    "std_norm.flatten()[8]"
   ]
  },
  {
   "cell_type": "code",
   "execution_count": 82,
   "id": "f0cdb9a5-88f1-4cec-be12-5897c4cad535",
   "metadata": {},
   "outputs": [
    {
     "data": {
      "text/plain": [
       "np.float64(-0.10387761275292326)"
      ]
     },
     "execution_count": 82,
     "metadata": {},
     "output_type": "execute_result"
    }
   ],
   "source": [
    "std_norm.mean()  # 平均"
   ]
  },
  {
   "cell_type": "code",
   "execution_count": 83,
   "id": "8f24b4a1-710f-4d2a-aafd-ae440af1af6f",
   "metadata": {},
   "outputs": [
    {
     "data": {
      "text/plain": [
       "np.float64(-0.4264500924926471)"
      ]
     },
     "execution_count": 83,
     "metadata": {},
     "output_type": "execute_result"
    }
   ],
   "source": [
    "np.median(std_norm)  # 中央値"
   ]
  },
  {
   "cell_type": "code",
   "execution_count": 84,
   "id": "7ecc71a7-80b8-4bd2-968b-2700ca364e3f",
   "metadata": {},
   "outputs": [
    {
     "name": "stdout",
     "output_type": "stream",
     "text": [
      "median sec:0.018682479858398438\n"
     ]
    }
   ],
   "source": [
    "a = np.random.randn(1000, 1000)\n",
    "before = time.time()\n",
    "np.median(a)\n",
    "after = time.time()\n",
    "print(f\"median sec:{after - before}\")  # 計算に意外と時間がかかる"
   ]
  },
  {
   "cell_type": "code",
   "execution_count": 85,
   "id": "2b65f0b9-c5d6-4225-b4a9-bfba1a9ab4e5",
   "metadata": {},
   "outputs": [
    {
     "name": "stdout",
     "output_type": "stream",
     "text": [
      "mean sec:0.0033037662506103516\n"
     ]
    }
   ],
   "source": [
    "before = time.time()\n",
    "np.mean(a)\n",
    "after = time.time()\n",
    "print(f\"mean sec:{after - before}\")"
   ]
  },
  {
   "cell_type": "code",
   "execution_count": 86,
   "id": "09c23b4b-f9b5-444e-8c9d-1e67b49ae099",
   "metadata": {},
   "outputs": [
    {
     "data": {
      "text/plain": [
       "np.float64(0.8604190089746997)"
      ]
     },
     "execution_count": 86,
     "metadata": {},
     "output_type": "execute_result"
    }
   ],
   "source": [
    "np.std(std_norm)  # 標準偏差"
   ]
  },
  {
   "cell_type": "markdown",
   "id": "929ee164-88ac-4207-b92a-d9292c19b627",
   "metadata": {},
   "source": [
    "# 数学で使う便利関数"
   ]
  },
  {
   "cell_type": "code",
   "execution_count": 91,
   "id": "35f9097e-b9e0-4d08-8dee-634b36da0dfa",
   "metadata": {},
   "outputs": [
    {
     "data": {
      "text/plain": [
       "4"
      ]
     },
     "execution_count": 91,
     "metadata": {},
     "output_type": "execute_result"
    }
   ],
   "source": [
    "my_sqrt = np.sqrt(16)\n",
    "int(my_sqrt)"
   ]
  },
  {
   "cell_type": "code",
   "execution_count": 90,
   "id": "70914fe2-1447-4042-b697-e54585e141f3",
   "metadata": {},
   "outputs": [
    {
     "data": {
      "text/plain": [
       "np.float64(0.6931471805599453)"
      ]
     },
     "execution_count": 90,
     "metadata": {},
     "output_type": "execute_result"
    }
   ],
   "source": [
    "np.log(2)"
   ]
  },
  {
   "cell_type": "code",
   "execution_count": 94,
   "id": "b9f707bf-c993-4061-81d8-9aaf202444ca",
   "metadata": {},
   "outputs": [
    {
     "data": {
      "text/plain": [
       "np.float64(2.718281828459045)"
      ]
     },
     "execution_count": 94,
     "metadata": {},
     "output_type": "execute_result"
    }
   ],
   "source": [
    "np.exp(1)  # e"
   ]
  },
  {
   "cell_type": "code",
   "execution_count": 95,
   "id": "3a5f5fa8-39f1-46c1-ab86-3407e6c6a697",
   "metadata": {},
   "outputs": [
    {
     "data": {
      "text/plain": [
       "2.718281828459045"
      ]
     },
     "execution_count": 95,
     "metadata": {},
     "output_type": "execute_result"
    }
   ],
   "source": [
    "np.e"
   ]
  },
  {
   "cell_type": "code",
   "execution_count": 96,
   "id": "d4c7df36-9814-4572-af9b-747e904815d7",
   "metadata": {},
   "outputs": [
    {
     "data": {
      "text/plain": [
       "np.int64(6)"
      ]
     },
     "execution_count": 96,
     "metadata": {},
     "output_type": "execute_result"
    }
   ],
   "source": [
    "np.sum([1, 2, 3])"
   ]
  },
  {
   "cell_type": "code",
   "execution_count": 100,
   "id": "b13a34f8-e808-4306-9770-6c9d0ccd4ee0",
   "metadata": {},
   "outputs": [
    {
     "data": {
      "text/plain": [
       "np.int64(55)"
      ]
     },
     "execution_count": 100,
     "metadata": {},
     "output_type": "execute_result"
    }
   ],
   "source": [
    "array = np.arange(1,11)\n",
    "np.sum(array)"
   ]
  },
  {
   "cell_type": "code",
   "execution_count": 103,
   "id": "8569305c-1680-4cf9-9f16-7ec767b7a5aa",
   "metadata": {},
   "outputs": [
    {
     "data": {
      "text/plain": [
       "array([[ 1,  2,  3,  4,  5],\n",
       "       [ 6,  7,  8,  9, 10]])"
      ]
     },
     "execution_count": 103,
     "metadata": {},
     "output_type": "execute_result"
    }
   ],
   "source": [
    "array = array.reshape(2, 5)\n",
    "array"
   ]
  },
  {
   "cell_type": "code",
   "execution_count": 104,
   "id": "081eb8e1-11f6-404e-a6c3-9ca051f0ef64",
   "metadata": {},
   "outputs": [
    {
     "data": {
      "text/plain": [
       "array([ 7,  9, 11, 13, 15])"
      ]
     },
     "execution_count": 104,
     "metadata": {},
     "output_type": "execute_result"
    }
   ],
   "source": [
    "np.sum(array, axis=0)"
   ]
  },
  {
   "cell_type": "code",
   "execution_count": 105,
   "id": "7b975d5b-3637-447c-858d-6204fdeb2ffe",
   "metadata": {},
   "outputs": [
    {
     "data": {
      "text/plain": [
       "array([15, 40])"
      ]
     },
     "execution_count": 105,
     "metadata": {},
     "output_type": "execute_result"
    }
   ],
   "source": [
    "np.sum(array, axis=1)"
   ]
  },
  {
   "cell_type": "code",
   "execution_count": 107,
   "id": "f56e9f53-b24e-4ae4-98da-12d74c566206",
   "metadata": {},
   "outputs": [
    {
     "data": {
      "text/plain": [
       "array([1, 2, 3, 4, 5, 6, 7])"
      ]
     },
     "execution_count": 107,
     "metadata": {},
     "output_type": "execute_result"
    }
   ],
   "source": [
    "array = [1, -2, 3, -4, 5, -6, 7]\n",
    "np.abs(array)"
   ]
  },
  {
   "cell_type": "markdown",
   "id": "0255798a-6c94-4b01-a3ed-e62cc60d2863",
   "metadata": {},
   "source": [
    "# Nan"
   ]
  },
  {
   "cell_type": "code",
   "execution_count": 109,
   "id": "6cf93e9d-774b-40c9-a4ae-66e4bb0a2d17",
   "metadata": {},
   "outputs": [
    {
     "data": {
      "text/plain": [
       "nan"
      ]
     },
     "execution_count": 109,
     "metadata": {},
     "output_type": "execute_result"
    }
   ],
   "source": [
    "np.nan  # 計算できないよ! Float関連でよく出る"
   ]
  },
  {
   "cell_type": "code",
   "execution_count": 110,
   "id": "deb69e8b-3b8f-418d-8b3c-b067d5553ede",
   "metadata": {},
   "outputs": [
    {
     "data": {
      "text/plain": [
       "True"
      ]
     },
     "execution_count": 110,
     "metadata": {},
     "output_type": "execute_result"
    }
   ],
   "source": [
    "a = None\n",
    "a is None"
   ]
  },
  {
   "cell_type": "code",
   "execution_count": null,
   "id": "e56642be-229e-414b-9b2f-a1b15cd94bf2",
   "metadata": {},
   "outputs": [],
   "source": [
    "np,."
   ]
  },
  {
   "cell_type": "code",
   "execution_count": null,
   "id": "bca6c829-f047-4577-bfde-cc8f9ee81817",
   "metadata": {},
   "outputs": [],
   "source": []
  },
  {
   "cell_type": "code",
   "execution_count": null,
   "id": "e822de02-a61a-41c5-805e-31df78ef6829",
   "metadata": {},
   "outputs": [],
   "source": []
  },
  {
   "cell_type": "code",
   "execution_count": null,
   "id": "9c069788-ca48-49b8-8ad0-7d6b8ad2a975",
   "metadata": {},
   "outputs": [],
   "source": []
  }
 ],
 "metadata": {
  "kernelspec": {
   "display_name": "Python 3 (ipykernel)",
   "language": "python",
   "name": "python3"
  },
  "language_info": {
   "codemirror_mode": {
    "name": "ipython",
    "version": 3
   },
   "file_extension": ".py",
   "mimetype": "text/x-python",
   "name": "python",
   "nbconvert_exporter": "python",
   "pygments_lexer": "ipython3",
   "version": "3.12.4"
  }
 },
 "nbformat": 4,
 "nbformat_minor": 5
}
