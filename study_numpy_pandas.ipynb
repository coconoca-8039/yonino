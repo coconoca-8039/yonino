{
 "cells": [
  {
   "cell_type": "code",
   "execution_count": 1,
   "id": "ccc6b8ed-e116-4408-aada-ec0baaa0a8fb",
   "metadata": {},
   "outputs": [],
   "source": [
    "import pandas as pd\n",
    "import numpy as np\n",
    "import time"
   ]
  },
  {
   "cell_type": "code",
   "execution_count": 2,
   "id": "7626b296-e9e6-4daf-ab83-35f6bfa86b03",
   "metadata": {},
   "outputs": [
    {
     "name": "stdout",
     "output_type": "stream",
     "text": [
      "red\n",
      "blue\n",
      "green\n",
      "yellow\n",
      "white\n"
     ]
    }
   ],
   "source": [
    "colors = ['red', 'blue', 'green', 'yellow', 'white']\n",
    "for color in colors:\n",
    "    print(color)"
   ]
  },
  {
   "cell_type": "code",
   "execution_count": 3,
   "id": "4d081325-707a-43fd-8210-49d6b7efa544",
   "metadata": {},
   "outputs": [],
   "source": [
    "dict_list = [\n",
    "    {\"name\": \"ゆい\", \"age\": 26},\n",
    "    {\"name\": \"たけし\", \"age\": 30},\n",
    "    {\"name\": \"あかり\", \"age\": 22}\n",
    "]"
   ]
  },
  {
   "cell_type": "code",
   "execution_count": 4,
   "id": "5e645a8b-1b9c-40a0-be61-ca545bc7a3c4",
   "metadata": {},
   "outputs": [
    {
     "name": "stdout",
     "output_type": "stream",
     "text": [
      "name: ゆい\n",
      "age: 26\n",
      "name: たけし\n",
      "age: 30\n",
      "name: あかり\n",
      "age: 22\n"
     ]
    }
   ],
   "source": [
    "for d in dict_list:\n",
    "    for k, v in d.items():\n",
    "        print(f\"{k}: {v}\")"
   ]
  },
  {
   "cell_type": "code",
   "execution_count": null,
   "id": "bb6f74ed-7b80-4b8e-9485-84a81666c0b9",
   "metadata": {},
   "outputs": [],
   "source": []
  },
  {
   "cell_type": "code",
   "execution_count": null,
   "id": "d78aa77a-34e0-4a04-9c84-22bac9951571",
   "metadata": {},
   "outputs": [],
   "source": []
  }
 ],
 "metadata": {
  "kernelspec": {
   "display_name": "Python 3 (ipykernel)",
   "language": "python",
   "name": "python3"
  },
  "language_info": {
   "codemirror_mode": {
    "name": "ipython",
    "version": 3
   },
   "file_extension": ".py",
   "mimetype": "text/x-python",
   "name": "python",
   "nbconvert_exporter": "python",
   "pygments_lexer": "ipython3",
   "version": "3.12.4"
  }
 },
 "nbformat": 4,
 "nbformat_minor": 5
}
